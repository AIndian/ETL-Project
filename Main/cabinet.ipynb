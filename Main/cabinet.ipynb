{
 "cells": [
  {
   "cell_type": "code",
   "execution_count": 1,
   "metadata": {},
   "outputs": [],
   "source": [
    "#pip install psycopg2-binary"
   ]
  },
  {
   "cell_type": "code",
   "execution_count": 14,
   "metadata": {},
   "outputs": [],
   "source": [
    "#from config import password\n",
    "import pandas as pd\n",
    "from sqlalchemy import create_engine\n",
    "from datetime import datetime as dt\n",
    "#from config import password"
   ]
  },
  {
   "cell_type": "markdown",
   "metadata": {
    "slideshow": {
     "slide_type": "-"
    }
   },
   "source": [
    "### Store CSV into DataFrame"
   ]
  },
  {
   "cell_type": "code",
   "execution_count": 15,
   "metadata": {},
   "outputs": [
    {
     "data": {
      "text/html": [
       "<div>\n",
       "<style scoped>\n",
       "    .dataframe tbody tr th:only-of-type {\n",
       "        vertical-align: middle;\n",
       "    }\n",
       "\n",
       "    .dataframe tbody tr th {\n",
       "        vertical-align: top;\n",
       "    }\n",
       "\n",
       "    .dataframe thead th {\n",
       "        text-align: right;\n",
       "    }\n",
       "</style>\n",
       "<table border=\"1\" class=\"dataframe\">\n",
       "  <thead>\n",
       "    <tr style=\"text-align: right;\">\n",
       "      <th></th>\n",
       "      <th>Key</th>\n",
       "      <th>Administration</th>\n",
       "      <th>Party</th>\n",
       "      <th>Department</th>\n",
       "      <th>Name</th>\n",
       "      <th>LastName</th>\n",
       "      <th>ServiceStart</th>\n",
       "      <th>ServiceEnd</th>\n",
       "      <th>DeptScandalFlag</th>\n",
       "      <th>ScandalFlag</th>\n",
       "      <th>...</th>\n",
       "      <th>Unnamed: 27</th>\n",
       "      <th>Unnamed: 28</th>\n",
       "      <th>Unnamed: 29</th>\n",
       "      <th>Unnamed: 30</th>\n",
       "      <th>Unnamed: 31</th>\n",
       "      <th>Unnamed: 32</th>\n",
       "      <th>Unnamed: 33</th>\n",
       "      <th>Unnamed: 34</th>\n",
       "      <th>Unnamed: 35</th>\n",
       "      <th>Unnamed: 36</th>\n",
       "    </tr>\n",
       "  </thead>\n",
       "  <tbody>\n",
       "    <tr>\n",
       "      <th>0</th>\n",
       "      <td>1</td>\n",
       "      <td>Washington</td>\n",
       "      <td>None, Federalist</td>\n",
       "      <td>President</td>\n",
       "      <td>George Washington</td>\n",
       "      <td>Washington</td>\n",
       "      <td>4/30/1789</td>\n",
       "      <td>3/3/1797</td>\n",
       "      <td>NaN</td>\n",
       "      <td>NaN</td>\n",
       "      <td>...</td>\n",
       "      <td>NaN</td>\n",
       "      <td>NaN</td>\n",
       "      <td>NaN</td>\n",
       "      <td>NaN</td>\n",
       "      <td>NaN</td>\n",
       "      <td>NaN</td>\n",
       "      <td>NaN</td>\n",
       "      <td>NaN</td>\n",
       "      <td>NaN</td>\n",
       "      <td>NaN</td>\n",
       "    </tr>\n",
       "    <tr>\n",
       "      <th>1</th>\n",
       "      <td>2</td>\n",
       "      <td>Washington</td>\n",
       "      <td>None, Federalist</td>\n",
       "      <td>Vice President</td>\n",
       "      <td>John Adams</td>\n",
       "      <td>Adams</td>\n",
       "      <td>4/30/1789</td>\n",
       "      <td>3/3/1797</td>\n",
       "      <td>NaN</td>\n",
       "      <td>NaN</td>\n",
       "      <td>...</td>\n",
       "      <td>NaN</td>\n",
       "      <td>NaN</td>\n",
       "      <td>NaN</td>\n",
       "      <td>NaN</td>\n",
       "      <td>NaN</td>\n",
       "      <td>NaN</td>\n",
       "      <td>NaN</td>\n",
       "      <td>NaN</td>\n",
       "      <td>NaN</td>\n",
       "      <td>NaN</td>\n",
       "    </tr>\n",
       "    <tr>\n",
       "      <th>2</th>\n",
       "      <td>3</td>\n",
       "      <td>Washington</td>\n",
       "      <td>None, Federalist</td>\n",
       "      <td>Secretary of State</td>\n",
       "      <td>John Jay</td>\n",
       "      <td>Jay</td>\n",
       "      <td>4/30/1789</td>\n",
       "      <td>9/26/1789</td>\n",
       "      <td>NaN</td>\n",
       "      <td>NaN</td>\n",
       "      <td>...</td>\n",
       "      <td>NaN</td>\n",
       "      <td>NaN</td>\n",
       "      <td>NaN</td>\n",
       "      <td>NaN</td>\n",
       "      <td>NaN</td>\n",
       "      <td>NaN</td>\n",
       "      <td>NaN</td>\n",
       "      <td>NaN</td>\n",
       "      <td>NaN</td>\n",
       "      <td>NaN</td>\n",
       "    </tr>\n",
       "    <tr>\n",
       "      <th>3</th>\n",
       "      <td>4</td>\n",
       "      <td>Washington</td>\n",
       "      <td>None, Federalist</td>\n",
       "      <td>Secretary of State</td>\n",
       "      <td>Thomas Jefferson</td>\n",
       "      <td>Jefferson</td>\n",
       "      <td>9/26/1789</td>\n",
       "      <td>12/2/1794</td>\n",
       "      <td>NaN</td>\n",
       "      <td>NaN</td>\n",
       "      <td>...</td>\n",
       "      <td>NaN</td>\n",
       "      <td>NaN</td>\n",
       "      <td>NaN</td>\n",
       "      <td>NaN</td>\n",
       "      <td>NaN</td>\n",
       "      <td>NaN</td>\n",
       "      <td>NaN</td>\n",
       "      <td>NaN</td>\n",
       "      <td>NaN</td>\n",
       "      <td>NaN</td>\n",
       "    </tr>\n",
       "    <tr>\n",
       "      <th>4</th>\n",
       "      <td>5</td>\n",
       "      <td>Washington</td>\n",
       "      <td>None, Federalist</td>\n",
       "      <td>Secretary of State</td>\n",
       "      <td>Edmund Randolph</td>\n",
       "      <td>Randolph</td>\n",
       "      <td>12/2/1794</td>\n",
       "      <td>8/20/1795</td>\n",
       "      <td>NaN</td>\n",
       "      <td>NaN</td>\n",
       "      <td>...</td>\n",
       "      <td>NaN</td>\n",
       "      <td>NaN</td>\n",
       "      <td>NaN</td>\n",
       "      <td>NaN</td>\n",
       "      <td>NaN</td>\n",
       "      <td>NaN</td>\n",
       "      <td>NaN</td>\n",
       "      <td>NaN</td>\n",
       "      <td>NaN</td>\n",
       "      <td>NaN</td>\n",
       "    </tr>\n",
       "  </tbody>\n",
       "</table>\n",
       "<p>5 rows × 37 columns</p>\n",
       "</div>"
      ],
      "text/plain": [
       "   Key Administration             Party          Department  \\\n",
       "0    1     Washington  None, Federalist           President   \n",
       "1    2     Washington  None, Federalist      Vice President   \n",
       "2    3     Washington  None, Federalist  Secretary of State   \n",
       "3    4     Washington  None, Federalist  Secretary of State   \n",
       "4    5     Washington  None, Federalist  Secretary of State   \n",
       "\n",
       "                Name    LastName ServiceStart ServiceEnd  DeptScandalFlag  \\\n",
       "0  George Washington  Washington    4/30/1789   3/3/1797              NaN   \n",
       "1         John Adams       Adams    4/30/1789   3/3/1797              NaN   \n",
       "2           John Jay         Jay    4/30/1789  9/26/1789              NaN   \n",
       "3   Thomas Jefferson   Jefferson    9/26/1789  12/2/1794              NaN   \n",
       "4    Edmund Randolph    Randolph    12/2/1794  8/20/1795              NaN   \n",
       "\n",
       "   ScandalFlag  ... Unnamed: 27 Unnamed: 28  Unnamed: 29  Unnamed: 30  \\\n",
       "0          NaN  ...         NaN         NaN          NaN          NaN   \n",
       "1          NaN  ...         NaN         NaN          NaN          NaN   \n",
       "2          NaN  ...         NaN         NaN          NaN          NaN   \n",
       "3          NaN  ...         NaN         NaN          NaN          NaN   \n",
       "4          NaN  ...         NaN         NaN          NaN          NaN   \n",
       "\n",
       "   Unnamed: 31  Unnamed: 32  Unnamed: 33 Unnamed: 34 Unnamed: 35 Unnamed: 36  \n",
       "0          NaN          NaN          NaN         NaN         NaN         NaN  \n",
       "1          NaN          NaN          NaN         NaN         NaN         NaN  \n",
       "2          NaN          NaN          NaN         NaN         NaN         NaN  \n",
       "3          NaN          NaN          NaN         NaN         NaN         NaN  \n",
       "4          NaN          NaN          NaN         NaN         NaN         NaN  \n",
       "\n",
       "[5 rows x 37 columns]"
      ]
     },
     "execution_count": 15,
     "metadata": {},
     "output_type": "execute_result"
    }
   ],
   "source": [
    "csv_file = \"../Resources/Appointments.csv\"\n",
    "appointments_df = pd.read_csv(csv_file)\n",
    "appointments_df.head(5)"
   ]
  },
  {
   "cell_type": "markdown",
   "metadata": {},
   "source": [
    "### Create new data with select columns"
   ]
  },
  {
   "cell_type": "code",
   "execution_count": 16,
   "metadata": {},
   "outputs": [
    {
     "data": {
      "text/html": [
       "<div>\n",
       "<style scoped>\n",
       "    .dataframe tbody tr th:only-of-type {\n",
       "        vertical-align: middle;\n",
       "    }\n",
       "\n",
       "    .dataframe tbody tr th {\n",
       "        vertical-align: top;\n",
       "    }\n",
       "\n",
       "    .dataframe thead th {\n",
       "        text-align: right;\n",
       "    }\n",
       "</style>\n",
       "<table border=\"1\" class=\"dataframe\">\n",
       "  <thead>\n",
       "    <tr style=\"text-align: right;\">\n",
       "      <th></th>\n",
       "      <th>Key</th>\n",
       "      <th>Administration</th>\n",
       "      <th>ServiceStart</th>\n",
       "      <th>ServiceEnd</th>\n",
       "      <th>Department</th>\n",
       "      <th>Name</th>\n",
       "    </tr>\n",
       "  </thead>\n",
       "  <tbody>\n",
       "    <tr>\n",
       "      <th>0</th>\n",
       "      <td>1</td>\n",
       "      <td>Washington</td>\n",
       "      <td>4/30/1789</td>\n",
       "      <td>3/3/1797</td>\n",
       "      <td>President</td>\n",
       "      <td>George Washington</td>\n",
       "    </tr>\n",
       "    <tr>\n",
       "      <th>1</th>\n",
       "      <td>2</td>\n",
       "      <td>Washington</td>\n",
       "      <td>4/30/1789</td>\n",
       "      <td>3/3/1797</td>\n",
       "      <td>Vice President</td>\n",
       "      <td>John Adams</td>\n",
       "    </tr>\n",
       "    <tr>\n",
       "      <th>2</th>\n",
       "      <td>3</td>\n",
       "      <td>Washington</td>\n",
       "      <td>4/30/1789</td>\n",
       "      <td>9/26/1789</td>\n",
       "      <td>Secretary of State</td>\n",
       "      <td>John Jay</td>\n",
       "    </tr>\n",
       "    <tr>\n",
       "      <th>3</th>\n",
       "      <td>4</td>\n",
       "      <td>Washington</td>\n",
       "      <td>9/26/1789</td>\n",
       "      <td>12/2/1794</td>\n",
       "      <td>Secretary of State</td>\n",
       "      <td>Thomas Jefferson</td>\n",
       "    </tr>\n",
       "    <tr>\n",
       "      <th>4</th>\n",
       "      <td>5</td>\n",
       "      <td>Washington</td>\n",
       "      <td>12/2/1794</td>\n",
       "      <td>8/20/1795</td>\n",
       "      <td>Secretary of State</td>\n",
       "      <td>Edmund Randolph</td>\n",
       "    </tr>\n",
       "  </tbody>\n",
       "</table>\n",
       "</div>"
      ],
      "text/plain": [
       "   Key Administration ServiceStart ServiceEnd          Department  \\\n",
       "0    1     Washington    4/30/1789   3/3/1797           President   \n",
       "1    2     Washington    4/30/1789   3/3/1797      Vice President   \n",
       "2    3     Washington    4/30/1789  9/26/1789  Secretary of State   \n",
       "3    4     Washington    9/26/1789  12/2/1794  Secretary of State   \n",
       "4    5     Washington    12/2/1794  8/20/1795  Secretary of State   \n",
       "\n",
       "                Name  \n",
       "0  George Washington  \n",
       "1         John Adams  \n",
       "2           John Jay  \n",
       "3   Thomas Jefferson  \n",
       "4    Edmund Randolph  "
      ]
     },
     "execution_count": 16,
     "metadata": {},
     "output_type": "execute_result"
    }
   ],
   "source": [
    "# Create a filtered dataframe from specific columns\n",
    "appointments_df = appointments_df[['Key','Administration', 'ServiceStart', 'ServiceEnd', 'Department', 'Name' ]].copy()\n",
    "appointments_df.head()"
   ]
  },
  {
   "cell_type": "code",
   "execution_count": null,
   "metadata": {},
   "outputs": [],
   "source": [
    "appointments_transformed= appointments_df[appointments_transformed].copy()\n",
    "\n",
    "# Rename the column headers\n",
    "appointments_transformed = appointments_transformed.rename(columns={\"Administration\": \"President\",\n",
    "                                                          \"ServiceStart\": \"Service Start\",\n",
    "                                                          \"ServiceEnd\": \"Service End\",\n",
    "                                                          \"Department\": \"Cabinet Appointment\",\n",
    "                                                          \"Name\" : \"Appointee Name\"})  \n",
    "                                                           \n",
    "appointments_transformed\n"
   ]
  },
  {
   "cell_type": "code",
   "execution_count": 17,
   "metadata": {},
   "outputs": [
    {
     "ename": "NameError",
     "evalue": "name 'appointments_transformed' is not defined",
     "output_type": "error",
     "traceback": [
      "\u001b[1;31m---------------------------------------------------------------------------\u001b[0m",
      "\u001b[1;31mNameError\u001b[0m                                 Traceback (most recent call last)",
      "\u001b[1;32m<ipython-input-17-4fbf0a8211d6>\u001b[0m in \u001b[0;36m<module>\u001b[1;34m\u001b[0m\n\u001b[1;32m----> 1\u001b[1;33m \u001b[0mappointments_transformed\u001b[0m\u001b[1;33m=\u001b[0m \u001b[0mappointments_df\u001b[0m\u001b[1;33m[\u001b[0m\u001b[0mappointments_transformed\u001b[0m\u001b[1;33m]\u001b[0m\u001b[1;33m.\u001b[0m\u001b[0mcopy\u001b[0m\u001b[1;33m(\u001b[0m\u001b[1;33m)\u001b[0m\u001b[1;33m\u001b[0m\u001b[1;33m\u001b[0m\u001b[0m\n\u001b[0m\u001b[0;32m      2\u001b[0m \u001b[1;33m\u001b[0m\u001b[0m\n\u001b[0;32m      3\u001b[0m \u001b[1;31m# Rename the column headers\u001b[0m\u001b[1;33m\u001b[0m\u001b[1;33m\u001b[0m\u001b[1;33m\u001b[0m\u001b[0m\n\u001b[0;32m      4\u001b[0m appointments_transformed = appointments_transformed.rename(columns={\"Administration\": \"President\",\n\u001b[0;32m      5\u001b[0m                                                           \u001b[1;34m\"ServiceStart\"\u001b[0m\u001b[1;33m:\u001b[0m \u001b[1;34m\"Service Start\"\u001b[0m\u001b[1;33m,\u001b[0m\u001b[1;33m\u001b[0m\u001b[1;33m\u001b[0m\u001b[0m\n",
      "\u001b[1;31mNameError\u001b[0m: name 'appointments_transformed' is not defined"
     ]
    }
   ],
   "source": [
    "# Clean the data by dropping duplicates and setting the index\n",
    "appointments_transformed.drop_duplicates(\"key\", inplace=True)\n",
    "apppointments_transformed.set_index(\"key\", inplace=True)"
   ]
  },
  {
   "cell_type": "code",
   "execution_count": null,
   "metadata": {},
   "outputs": [],
   "source": [
    "county_cols = [\"ID\", \"County Name (Licensee)\", \"County ID Code\", \"License Count\"]\n",
    "county_transformed = county_df[county_cols].copy()\n",
    "\n",
    "# Rename the column headers\n",
    "county_transformed = county_transformed.rename(columns={\"ID\": \"id\",\n",
    "                                                         \"County Name (Licensee)\": \"county_name\",\n",
    "                                                         \"License Count\": \"license_count\",\n",
    "                                                         \"County ID Code\": \"county_id\"})\n",
    "\n",
    "# Set index\n",
    "county_transformed.set_index(\"id\", inplace=True)\n",
    "\n",
    "county_transformed.head()"
   ]
  },
  {
   "cell_type": "markdown",
   "metadata": {},
   "source": [
    "### Connect to local database"
   ]
  },
  {
   "cell_type": "code",
   "execution_count": null,
   "metadata": {},
   "outputs": [],
   "source": [
    "#data is now ready to save into database (like Postgres)\n",
    "#code below connects to SQL ??\n",
    "#need to install library to complete the code below\n",
    "#need  to create customer_db in Postgres first or will get error - IMPORTANT\n",
    "#should save a password in a config file to  use in code below\n",
    "rds_connection_string = f'postgres:ny$$A80$@localhost:5432/customer_db'\n",
    "engine = create_engine(f'postgresql://{rds_connection_string}')"
   ]
  },
  {
   "cell_type": "markdown",
   "metadata": {},
   "source": [
    "### Check for tables"
   ]
  },
  {
   "cell_type": "code",
   "execution_count": null,
   "metadata": {},
   "outputs": [],
   "source": [
    "engine.table_names()"
   ]
  },
  {
   "cell_type": "markdown",
   "metadata": {},
   "source": [
    "### Use pandas to load csv converted DataFrame into database"
   ]
  },
  {
   "cell_type": "code",
   "execution_count": null,
   "metadata": {},
   "outputs": [],
   "source": [
    "#if don't set index=False, will create a column for the index??\n",
    "\n",
    "new_customer_data_df.to_sql(name='customer_name', con=engine, if_exists='append', index=False)"
   ]
  },
  {
   "cell_type": "markdown",
   "metadata": {},
   "source": [
    "### Use pandas to load json converted DataFrame into database"
   ]
  },
  {
   "cell_type": "code",
   "execution_count": null,
   "metadata": {},
   "outputs": [],
   "source": [
    "new_customer_location_df.to_sql(name='customer_location', con=engine, if_exists='append', index=False)"
   ]
  },
  {
   "cell_type": "markdown",
   "metadata": {},
   "source": [
    "### Confirm data has been added by querying the customer_name table\n",
    "* NOTE: can also check using pgAdmin"
   ]
  },
  {
   "cell_type": "code",
   "execution_count": null,
   "metadata": {},
   "outputs": [],
   "source": [
    "# _sql_query is a function\n",
    "pd.read_sql_query('select * from customer_name', con=engine).head()"
   ]
  },
  {
   "cell_type": "markdown",
   "metadata": {},
   "source": [
    "### Confirm data has been added by querying the customer_location table"
   ]
  },
  {
   "cell_type": "code",
   "execution_count": null,
   "metadata": {},
   "outputs": [],
   "source": [
    "pd.read_sql_query('select * from customer_location', con=engine).head()"
   ]
  },
  {
   "cell_type": "code",
   "execution_count": null,
   "metadata": {},
   "outputs": [],
   "source": []
  }
 ],
 "metadata": {
  "kernelspec": {
   "display_name": "Python 3",
   "language": "python",
   "name": "python3"
  },
  "language_info": {
   "codemirror_mode": {
    "name": "ipython",
    "version": 3
   },
   "file_extension": ".py",
   "mimetype": "text/x-python",
   "name": "python",
   "nbconvert_exporter": "python",
   "pygments_lexer": "ipython3",
   "version": "3.7.9"
  },
  "nteract": {
   "version": "0.12.3"
  }
 },
 "nbformat": 4,
 "nbformat_minor": 2
}
